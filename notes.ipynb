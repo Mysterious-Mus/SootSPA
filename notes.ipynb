{
 "cells": [
  {
   "cell_type": "markdown",
   "metadata": {},
   "source": [
    "# Acknowledgement"
   ]
  },
  {
   "cell_type": "markdown",
   "metadata": {},
   "source": [
    "This project is forked from [noidsirius/SootTutorial](https://github.com/noidsirius/SootTutorial). I would like to thank the author for his great work."
   ]
  },
  {
   "cell_type": "markdown",
   "metadata": {},
   "source": [
    "# How to use"
   ]
  },
  {
   "cell_type": "markdown",
   "metadata": {},
   "source": [
    "## Setup"
   ]
  },
  {
   "cell_type": "markdown",
   "metadata": {},
   "source": [
    "- Configure environment variable `JAVA_HOME` to JDK 8\n",
    "\n",
    "- `./gradlew.bat build`"
   ]
  },
  {
   "cell_type": "markdown",
   "metadata": {},
   "source": [
    "## AvailableExp"
   ]
  },
  {
   "cell_type": "markdown",
   "metadata": {},
   "source": [
    "example: `./gradlew.bat run --args=\"AvailableExp -cp demo/HelloSoot -c FizzBuzz -m available -may_iter 2\"`"
   ]
  },
  {
   "cell_type": "markdown",
   "metadata": {},
   "source": [
    "explanaition:\n",
    "\n",
    "- `-cp`: classpath\n",
    "\n",
    "- `-c`: class name\n",
    "\n",
    "- `-m`: method name\n",
    "\n",
    "- `-may_iter`: the number of iterations for may analysis\n",
    "\n",
    "    - this argument is optional, default value is 0\n",
    "\n",
    "    - if the value is 0, the analysis will be a must analysis\n",
    "\n",
    "    - if the value is greater than 0, then after the must analysis, specified number of may analysis iterations will be performed\n",
    "\n",
    "    - For our given example, \n",
    "\n",
    "        `./gradlew.bat run --args=\"AvailableExp -cp demo/HelloSoot -c FizzBuzz -m available -may_iter 1\"` \n",
    "        \n",
    "        will report:\n",
    "\n",
    "        ```java\n",
    "        Units you may optimize in <FizzBuzz: void available()>:\n",
    "        line 29: i2 = b0 * b1\n",
    "        ```\n",
    "\n",
    "        while `./gradlew.bat run --args=\"AvailableExp -cp demo/HelloSoot -c FizzBuzz -m available -may_iter 0\"` will not give any optimization suggestions because it's based on vanilla Available Expression Analysis.\n",
    "\n",
    "        In general, more may iterations will give more optimization suggestions, but it will also take more time to run the analysis and the analysis result will be less precise."
   ]
  },
  {
   "cell_type": "markdown",
   "metadata": {},
   "source": [
    "# Develop Notes"
   ]
  },
  {
   "cell_type": "markdown",
   "metadata": {},
   "source": [
    "## Setup and run"
   ]
  },
  {
   "cell_type": "markdown",
   "metadata": {},
   "source": [
    "- setup requires gradle build\n",
    "\n",
    "- recompile with complie.ps1 (has been written to main, this file recomplies all files in demo)\n",
    "\n",
    "- must use java8, configure at JAVA_HOME"
   ]
  },
  {
   "cell_type": "markdown",
   "metadata": {},
   "source": [
    "## Workflow"
   ]
  },
  {
   "cell_type": "markdown",
   "metadata": {},
   "source": [
    "- `./gradlew.bat run` will enter `mainClassName` specified in `build.gradle`\n",
    "\n",
    "- args can be specified by `./gradlew.bat run --args=\"AvailableExp\"`"
   ]
  }
 ],
 "metadata": {
  "language_info": {
   "name": "python"
  }
 },
 "nbformat": 4,
 "nbformat_minor": 2
}
