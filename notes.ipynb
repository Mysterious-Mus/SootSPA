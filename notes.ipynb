{
 "cells": [
  {
   "cell_type": "markdown",
   "metadata": {},
   "source": [
    "# Acknowledgement"
   ]
  },
  {
   "cell_type": "markdown",
   "metadata": {},
   "source": [
    "This project is forked from [noidsirius/SootTutorial](https://github.com/noidsirius/SootTutorial). I would like to thank the author for his great work."
   ]
  },
  {
   "cell_type": "markdown",
   "metadata": {},
   "source": [
    "# How to use"
   ]
  },
  {
   "cell_type": "markdown",
   "metadata": {},
   "source": [
    "## Setup"
   ]
  },
  {
   "cell_type": "markdown",
   "metadata": {},
   "source": [
    "- Configure environment variable `JAVA_HOME` to JDK 8\n",
    "\n",
    "- `./gradlew.bat build`"
   ]
  },
  {
   "cell_type": "markdown",
   "metadata": {},
   "source": [
    "## AvailableExp"
   ]
  },
  {
   "cell_type": "markdown",
   "metadata": {},
   "source": [
    "Available Expression Analysis is used as a tool to help developers to eliminate redundant evaluations in their code."
   ]
  },
  {
   "cell_type": "markdown",
   "metadata": {},
   "source": [
    "### example: \n",
    "\n",
    "`./gradlew.bat run --args=\"AvailableExp -cp demo/AvailableExpression -c AvailableExp -m may2 -may_iter 2 -enhanced_may_iter -report_performance\"`"
   ]
  },
  {
   "cell_type": "markdown",
   "metadata": {},
   "source": [
    "### arguments:\n",
    "\n",
    "- `-cp`: classpath\n",
    "\n",
    "- `-c`: class name\n",
    "\n",
    "- `-m`: method name\n",
    "\n",
    "- `-may_iter`: the number of iterations for may analysis\n",
    "\n",
    "    - this argument is optional, default value is 0\n",
    "\n",
    "    - if the value is 0, the analysis will be a must analysis\n",
    "\n",
    "    - if the value is greater than 0, then after the must analysis, specified number of may analysis iterations will be performed\n",
    "\n",
    "    - For our given example, \n",
    "\n",
    "        `./gradlew.bat run --args=\"AvailableExp -cp demo/AvailableExpression -c AvailableExp -m may1 -may_iter 1\"`\n",
    "        \n",
    "        will report:\n",
    "\n",
    "        ```java\n",
    "        Units you may optimize in <AvailableExp: void may1()>:\n",
    "        demo/AvailableExpression\\AvailableExp.java:6             s = a * b;\n",
    "        ```\n",
    "\n",
    "        while `./gradlew.bat run --args=\"AvailableExp -cp demo/AvailableExpression -c AvailableExp -m may1\"` will not give any optimization suggestions because it's based on vanilla Available Expression Analysis.\n",
    "\n",
    "        In general, more may iterations will give more optimization suggestions, but it will also take more time to run the analysis and the analysis result will be less precise.\n",
    "    \n",
    "- `-enhanced_may_iter`: If this argument is present, the may iterations the analysis will be enhanced in the following way:\n",
    "\n",
    "    After each may iteration, an increment global must analysis will be performed. \"Increment\" means that no available expression will be removed from the result of the may iteration, because otherwise the new available expression found in the may iteration will all be removed. The purpose of the increment global must analysis is to allow successors to inherit the new available expression found in the may iterations.\n",
    "\n",
    "    This can make may iterations more explainable. One enhanced may iteration can effectively keep an expression alive over a branch statement where it is not always killed.\n",
    "\n",
    "    For example, \n",
    "    \n",
    "    `./gradlew.bat run --args=\"AvailableExp -cp demo/AvailableExpression -c AvailableExp -m may1fail -may_iter 1\"` \n",
    "    \n",
    "    would still fail to provide any optimization suggestions. But,\n",
    "    \n",
    "    `./gradlew.bat run --args=\"AvailableExp -cp demo/AvailableExpression -c AvailableExp -m may1fail -may_iter 1 -enhanced_may_iter\"` \n",
    "    \n",
    "    will report the desired suggestion. You may also want to try to analyse `may2()` for more details.\n",
    "\n",
    "    `./gradlew.bat run --args=\"AvailableExp -cp demo/AvailableExpression -c AvailableExp -m may2 -may_iter 2 -enhanced_may_iter\"`"
   ]
  },
  {
   "cell_type": "markdown",
   "metadata": {},
   "source": [
    "\n",
    "- `-report_performance`: If this argument is present, the analysis will report its performance, measured by how many times unit propagation is performed."
   ]
  },
  {
   "cell_type": "markdown",
   "metadata": {},
   "source": [
    "- `-use_iterative`: If this argument is present, the analysis will use iterative dataflow analysis instead of worklist algorithm. This can be used to compare the performance of these two algorithms."
   ]
  },
  {
   "cell_type": "markdown",
   "metadata": {},
   "source": [
    "# Develop Notes"
   ]
  },
  {
   "cell_type": "markdown",
   "metadata": {},
   "source": [
    "## Setup and run"
   ]
  },
  {
   "cell_type": "markdown",
   "metadata": {},
   "source": [
    "- setup requires gradle build\n",
    "\n",
    "- recompile with complie.ps1 (has been written to main, this file recomplies all files in demo)\n",
    "\n",
    "- must use java8, configure at JAVA_HOME"
   ]
  },
  {
   "cell_type": "markdown",
   "metadata": {},
   "source": [
    "## Workflow"
   ]
  },
  {
   "cell_type": "markdown",
   "metadata": {},
   "source": [
    "- `./gradlew.bat run` will enter `mainClassName` specified in `build.gradle`\n",
    "\n",
    "- args can be specified by `./gradlew.bat run --args=\"AvailableExp\"`"
   ]
  }
 ],
 "metadata": {
  "language_info": {
   "name": "python"
  }
 },
 "nbformat": 4,
 "nbformat_minor": 2
}
