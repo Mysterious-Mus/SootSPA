{
 "cells": [
  {
   "cell_type": "markdown",
   "metadata": {},
   "source": [
    "# Setup and run"
   ]
  },
  {
   "cell_type": "markdown",
   "metadata": {},
   "source": [
    "- setup requires gradle build\n",
    "\n",
    "- recompile with complie.ps1 (has been written to main, this file recomplies all files in demo)\n",
    "\n",
    "- must use java8, configure at JAVA_HOME"
   ]
  },
  {
   "cell_type": "markdown",
   "metadata": {},
   "source": [
    "# Workflow"
   ]
  },
  {
   "cell_type": "markdown",
   "metadata": {},
   "source": [
    "- `./gradlew.bat run` will enter `mainClassName` specified in `build.gradle`\n",
    "\n",
    "- args can be specified by `./gradlew.bat run --args=\"AvailableExp\"`"
   ]
  }
 ],
 "metadata": {
  "language_info": {
   "name": "python"
  }
 },
 "nbformat": 4,
 "nbformat_minor": 2
}
